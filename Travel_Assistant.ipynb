{
 "cells": [
  {
   "cell_type": "markdown",
   "id": "0748ca25-c83a-493b-aecd-62e297e832f4",
   "metadata": {},
   "source": [
    "# Travel Visa Assistant #"
   ]
  },
  {
   "cell_type": "markdown",
   "id": "87ca536f-dde3-4c46-9338-1322a2367c32",
   "metadata": {},
   "source": [
    "Welcome! This notebook builds a simple and practical English-only travel visa assistant that answers visa-related questions about countries like Canada, the US, or the UK using real data scraped from government websites.\n",
    "\n",
    "For this project, we'll set up a Retrieval-Augmented Generation (RAG) system using webpages from official government sites that provide visitor visa information. The scraped visa content from these trusted sources will form the knowledge base. This content will be indexed using vector embeddings and retrieved dynamically to give relevant context to an LLM (GPT-4), which  will then answer user questions accurately and conversationally."
   ]
  },
  {
   "cell_type": "markdown",
   "id": "78e51181-cee3-49c2-8be1-89e615f979d1",
   "metadata": {},
   "source": [
    "## Prerequisites ## "
   ]
  },
  {
   "cell_type": "markdown",
   "id": "2a60fd19-faf6-48fb-9c52-5e3eba21ba5e",
   "metadata": {},
   "source": [
    "You need an OpenAI account to create the OpenAI API Key"
   ]
  },
  {
   "cell_type": "markdown",
   "id": "44cb1a7b-603f-494c-9f86-ab8d241379d5",
   "metadata": {},
   "source": [
    "## Setup Instructions ##"
   ]
  },
  {
   "cell_type": "markdown",
   "id": "680724fe-a32e-4fd9-a781-c055a228175f",
   "metadata": {},
   "source": [
    "### Step 1. Set Up Environment (Mac/Linux) ###\n",
    "\n",
    "```\n",
    "python3 -m venv env\n",
    "source env/bin/activate\n",
    "pip install -r requirements.txt\n",
    "```"
   ]
  },
  {
   "cell_type": "markdown",
   "id": "80af7e15-9001-4f22-8799-a5e8b10ebfb0",
   "metadata": {},
   "source": [
    "### Step 2. Get OpenAI API Key ###\n",
    "\n",
    "1. Go to: <https://platform.openai.com/account/api-keys>\n",
    "\n",
    "2. Log in with your OpenAI account\n",
    "\n",
    "3. Click “Create new secret key”\n",
    "\n",
    "4. Copy and store the key securely\n",
    "\n",
    "Note: GPT-4 is usage-billed. You can set hard limits on usage in your [billing dashboard](https://platform.openai.com/settings/organization/billing/overview)."
   ]
  },
  {
   "cell_type": "markdown",
   "id": "7133e120-761f-444f-91d5-9ec45eeb04aa",
   "metadata": {},
   "source": [
    "### Step 3. Create .env File with API Keys ###"
   ]
  },
  {
   "cell_type": "markdown",
   "id": "e86e5102-44c6-451f-8535-46db359ea20b",
   "metadata": {},
   "source": [
    "Create a .env file in your root project directory and add your API key like this:\n",
    "\n",
    "```\n",
    "OPENAI_API_KEY=your-openai-key\n",
    "```"
   ]
  },
  {
   "cell_type": "markdown",
   "id": "179e4a07-8a73-48e5-9a36-b7d22b36c272",
   "metadata": {},
   "source": [
    "### Step 4. Launch the notebook\n",
    "```\n",
    "jupyter notebook\n",
    "```\n",
    "Open and run travel_assistant.ipynb"
   ]
  },
  {
   "cell_type": "markdown",
   "id": "07b0d047-f5bc-4305-8082-2db34525dd8a",
   "metadata": {},
   "source": [
    "## Import Required Libraries ##"
   ]
  },
  {
   "cell_type": "code",
   "execution_count": 1,
   "id": "1c426a72-3342-43b9-b823-0fcb273101ce",
   "metadata": {},
   "outputs": [],
   "source": [
    "import os\n",
    "from dotenv import load_dotenv\n",
    "from huggingface_hub import login\n",
    "\n",
    "load_dotenv()\n",
    "api_key = os.getenv(\"OPENAI_API_KEY\")\n",
    "\n",
    "HF_TOKEN = os.getenv(\"HF_TOKEN\")"
   ]
  },
  {
   "cell_type": "markdown",
   "id": "ad311e01-688f-4e28-bfe0-155594dcc5cf",
   "metadata": {},
   "source": [
    "We’ll be using LangChain for our RAG pipeline, FAISS for vector search, BeautifulSoup for scraping, and Gradio for a quick user interface."
   ]
  },
  {
   "cell_type": "code",
   "execution_count": 2,
   "id": "7e2bc649-d300-408e-9700-e2645938fe22",
   "metadata": {},
   "outputs": [
    {
     "name": "stderr",
     "output_type": "stream",
     "text": [
      "USER_AGENT environment variable not set, consider setting it to identify your requests.\n"
     ]
    }
   ],
   "source": [
    "from langchain_community.document_loaders import WebBaseLoader\n",
    "from langchain.text_splitter import RecursiveCharacterTextSplitter\n",
    "from langchain_openai import OpenAIEmbeddings\n",
    "from langchain.chains import RetrievalQA\n",
    "from langchain.llms import OpenAI\n",
    "from deep_translator import GoogleTranslator\n",
    "from bs4 import BeautifulSoup\n",
    "import requests\n",
    "import gradio as gr\n",
    "from langchain.docstore.document import Document\n",
    "from langchain_community.vectorstores import FAISS\n",
    "from langchain_community.embeddings import HuggingFaceEmbeddings\n"
   ]
  },
  {
   "cell_type": "markdown",
   "id": "f9e1a205-5918-4215-a1ab-879191d2be96",
   "metadata": {},
   "source": [
    "## Define Visa Websites ## "
   ]
  },
  {
   "cell_type": "markdown",
   "id": "534c3e62-6809-4151-bba5-bacd82994643",
   "metadata": {},
   "source": [
    "We’ll index a small set of visa-related government URLs to create our knowledge base. These official pages will serve as the data sources from which we extract content. The cleaned and relevant text from these pages will be turned into vector embeddings and stored in a FAISS index. This will allow our assistant to dynamically retrieve and feed context to an LLM (GPT-4), enabling it to answer user questions with real and current information."
   ]
  },
  {
   "cell_type": "code",
   "execution_count": 3,
   "id": "fad76bf5-60a0-4401-9d7b-1136b8ce9368",
   "metadata": {},
   "outputs": [],
   "source": [
    "TRAVEL_URLS = {\n",
    "    \"canada\": \"https://www.canada.ca/en/immigration-refugees-citizenship/services/visit-canada.html\",\n",
    "    \"usa\": \"https://travel.state.gov/content/travel/en/us-visas/tourism-visit.html\",\n",
    "    \"uk\": \"https://www.gov.uk/standard-visitor\",\n",
    "    # \"australia\": \"https://immi.homeaffairs.gov.au/visas/getting-a-visa/visa-finder/visit\",\n",
    "    # \"japan\": \"https://www.mofa.go.jp/j_info/visit/visa/index.html\",\n",
    "    # \"germany\": \"https://www.germany.info/us-en/service/visa-entry\",\n",
    "    # \"south_korea\": \"https://www.visa.go.kr/openPage.do?MENU_ID=10101\",\n",
    "    # \"new_zealand\": \"https://www.immigration.govt.nz/new-zealand-visas\",\n",
    "    # \"india\": \"https://indianvisaonline.gov.in/\",\n",
    "    # \"singapore\": \"https://www.ica.gov.sg/enter-transit-depart/entering-singapore\"\n",
    "}\n"
   ]
  },
  {
   "cell_type": "markdown",
   "id": "824b8f76-8c0e-4416-8875-c32cd0f0f319",
   "metadata": {},
   "source": [
    "## Load Data ##"
   ]
  },
  {
   "cell_type": "markdown",
   "id": "615c6e2f-d9f4-4b1e-80c6-aa6152da2a7b",
   "metadata": {},
   "source": [
    "For this project, instead of using a built-in LangChain loader like ```WebBaseLoader```, we are going to build a custom scraper using BeautifulSoup. This gives us full control to follow internal links and limit how deep we go (to avoid crawling unrelated content). The scraper collects visible paragraph text from a set of visa-related government URLs and their subpages. Each page will be converted into a LangChain Document object, which stores both the text and some useful metadata like the URL and depth level.\n",
    "\n",
    "At the end of the scraping process, we'll print a sample document to inspect its structure and content."
   ]
  },
  {
   "cell_type": "code",
   "execution_count": 4,
   "id": "9ef40488-2230-4e41-b80f-92d2f3388692",
   "metadata": {},
   "outputs": [],
   "source": [
    "from bs4 import BeautifulSoup\n",
    "from urllib.parse import urlparse, urljoin\n",
    "from collections import deque\n",
    "\n",
    "def scrape_data(start_url, country, max_depth=1, max_pages=10):\n",
    "    visited = set()\n",
    "    to_visit = deque([(start_url, 0)])\n",
    "    documents = []\n",
    "\n",
    "    while to_visit and len(visited) < max_pages:\n",
    "        current_url, level = to_visit.popleft()\n",
    "        if current_url in visited or level > max_depth:\n",
    "            continue\n",
    "\n",
    "        try:\n",
    "            response = requests.get(current_url, timeout=10)\n",
    "            soup = BeautifulSoup(response.text, \"html.parser\")\n",
    "            paragraphs = soup.find_all(\"p\")\n",
    "            text = \"\\n\".join(p.get_text(strip=True) for p in paragraphs)\n",
    "\n",
    "            if text.strip():\n",
    "                documents.append(\n",
    "                    Document(\n",
    "                        page_content=text,\n",
    "                        metadata={\"source\": country, \"url\": current_url, \"level\": level}\n",
    "                    )\n",
    "                )\n",
    "                print(f\"Visiting: {current_url} (Level {level}) — {len(visited)+1}\")\n",
    "\n",
    "\n",
    "            visited.add(current_url)\n",
    "\n",
    "            base_netloc = urlparse(start_url).netloc\n",
    "            for a_tag in soup.find_all(\"a\", href=True):\n",
    "                href = a_tag[\"href\"]\n",
    "                full_url = urljoin(current_url, href)\n",
    "                if urlparse(full_url).netloc == base_netloc and full_url not in visited:\n",
    "                    to_visit.append((full_url, level + 1))\n",
    "\n",
    "        except Exception as e:\n",
    "            print(f\"Failed to visit {current_url}: {e}\")\n",
    "\n",
    "    return documents\n"
   ]
  },
  {
   "cell_type": "markdown",
   "id": "cee83e90-589b-4b98-9d4c-a8036621c225",
   "metadata": {},
   "source": [
    "## Scrape & Load Documents ##"
   ]
  },
  {
   "cell_type": "markdown",
   "id": "8e7a0e3c-981a-43c7-8069-33d6007f3ea9",
   "metadata": {},
   "source": [
    "We'll be loading a maximum of 50 pages, 2 levels deep from each starting URL. This keeps data current but manageable."
   ]
  },
  {
   "cell_type": "code",
   "execution_count": 5,
   "id": "aa7769d9-3d6f-4d07-8e61-046c31adf991",
   "metadata": {},
   "outputs": [
    {
     "name": "stdout",
     "output_type": "stream",
     "text": [
      "Getting Data from CANADA (up to level 2)...\n",
      "Visiting: https://www.canada.ca/en/immigration-refugees-citizenship/services/visit-canada.html (Level 0) — 1\n",
      "Visiting: https://www.canada.ca/en/immigration-refugees-citizenship/services/visit-canada.html#wb-cont (Level 1) — 2\n",
      "Visiting: https://www.canada.ca/en/immigration-refugees-citizenship/services/visit-canada.html#wb-info (Level 1) — 3\n",
      "Visiting: https://www.canada.ca/fr/immigration-refugies-citoyennete/services/visiter-canada.html (Level 1) — 4\n",
      "Visiting: https://www.canada.ca/en.html (Level 1) — 5\n",
      "Visiting: https://www.canada.ca/en/services/jobs.html (Level 1) — 6\n",
      "Visiting: https://www.canada.ca/en/services/immigration-citizenship.html (Level 1) — 7\n",
      "Visiting: https://www.canada.ca/en/services/business.html (Level 1) — 8\n",
      "Visiting: https://www.canada.ca/en/services/benefits.html (Level 1) — 9\n",
      "Visiting: https://www.canada.ca/en/services/health.html (Level 1) — 10\n",
      "Visiting: https://www.canada.ca/en/services/taxes.html (Level 1) — 11\n",
      "Visiting: https://www.canada.ca/en/services/environment.html (Level 1) — 12\n",
      "Visiting: https://www.canada.ca/en/services/defence.html (Level 1) — 13\n",
      "Visiting: https://www.canada.ca/en/services/culture.html (Level 1) — 14\n",
      "Visiting: https://www.canada.ca/en/services/policing.html (Level 1) — 15\n",
      "Visiting: https://www.canada.ca/en/services/transport.html (Level 1) — 16\n",
      "Visiting: https://www.canada.ca/en/services/finance.html (Level 1) — 17\n",
      "Visiting: https://www.canada.ca/en/services/science.html (Level 1) — 18\n",
      "Visiting: https://www.canada.ca/en/immigration-refugees-citizenship/services/application/ircc-accounts.html (Level 1) — 19\n",
      "Visiting: https://www.canada.ca/en/immigration-refugees-citizenship/services/visit-canada/accounts.html (Level 1) — 20\n",
      "Visiting: https://www.canada.ca/en/immigration-refugees-citizenship/services/application/check-status.html (Level 1) — 21\n",
      "Visiting: https://www.canada.ca/en/immigration-refugees-citizenship/services/application/check-processing-times.html (Level 1) — 22\n",
      "Visiting: https://www.canada.ca/en/immigration-refugees-citizenship/services/visit-canada/visitor-visa.html (Level 1) — 23\n",
      "Visiting: https://www.canada.ca/en/immigration-refugees-citizenship/services/visit-canada/eta.html (Level 1) — 24\n",
      "Visiting: https://www.canada.ca/en/immigration-refugees-citizenship/services/visit-canada/extend-stay.html (Level 1) — 25\n",
      "Visiting: https://www.canada.ca/en/immigration-refugees-citizenship/services/visit-canada/apply-new-temporary-resident-visa-within-canada.html (Level 1) — 26\n",
      "Visiting: https://www.canada.ca/en/immigration-refugees-citizenship/services/visit-canada/parent-grandparent-super-visa.html (Level 1) — 27\n",
      "Visiting: https://www.canada.ca/en/immigration-refugees-citizenship/services/visit-canada/business.html (Level 1) — 28\n",
      "Visiting: https://www.canada.ca/en/immigration-refugees-citizenship/services/visit-canada/transit.html (Level 1) — 29\n",
      "Visiting: https://www.canada.ca/en/immigration-refugees-citizenship.html (Level 1) — 30\n",
      "Visiting: https://www.canada.ca/en/immigration-refugees-citizenship/corporate/contact-ircc.html (Level 1) — 31\n",
      "Visiting: https://www.canada.ca/en/contact.html (Level 1) — 32\n",
      "Visiting: https://www.canada.ca/en/government/dept.html (Level 1) — 33\n",
      "Visiting: https://www.canada.ca/en/government/system.html (Level 1) — 34\n",
      "Visiting: https://www.canada.ca/en/services/indigenous-peoples.html (Level 1) — 35\n",
      "Visiting: https://www.canada.ca/en/services/veterans-military.html (Level 1) — 36\n",
      "Visiting: https://www.canada.ca/en/services/youth.html (Level 1) — 37\n",
      "Visiting: https://www.canada.ca/en/social.html (Level 1) — 38\n",
      "Visiting: https://www.canada.ca/en/mobile.html (Level 1) — 39\n",
      "Visiting: https://www.canada.ca/en/government/about.html (Level 1) — 40\n",
      "Visiting: https://www.canada.ca/en/transparency/terms.html (Level 1) — 41\n",
      "Visiting: https://www.canada.ca/en/transparency/privacy.html (Level 1) — 42\n",
      "Visiting: https://www.canada.ca/fr/immigration-refugies-citoyennete/services/visiter-canada.html#wb-cont (Level 2) — 43\n",
      "Visiting: https://www.canada.ca/fr/immigration-refugies-citoyennete/services/visiter-canada.html#wb-info (Level 2) — 44\n",
      "Visiting: https://www.canada.ca/fr.html (Level 2) — 45\n",
      "Visiting: https://www.canada.ca/fr/services/emplois.html (Level 2) — 46\n",
      "Visiting: https://www.canada.ca/fr/services/immigration-citoyennete.html (Level 2) — 47\n",
      "Visiting: https://www.canada.ca/fr/services/entreprises.html (Level 2) — 48\n",
      "Visiting: https://www.canada.ca/fr/services/prestations.html (Level 2) — 49\n",
      "Visiting: https://www.canada.ca/fr/services/sante.html (Level 2) — 50\n",
      "50 documents scraped for canada\n",
      "Getting Data from USA (up to level 2)...\n",
      "Visiting: https://travel.state.gov/content/travel/en/us-visas/tourism-visit.html (Level 0) — 1\n",
      "Visiting: https://travel.state.gov/content/travel/en/us-visas/tourism-visit.html#inner-content (Level 1) — 2\n",
      "Visiting: https://travel.state.gov/content/travel.html (Level 1) — 3\n",
      "Visiting: https://travel.state.gov/content/travel/en/traveladvisories/traveladvisories.html (Level 1) — 4\n",
      "Visiting: https://travel.state.gov/content/travel/en/News/newsroom.html (Level 1) — 5\n",
      "Visiting: https://travel.state.gov/content/travel/en/about-us.html (Level 1) — 6\n",
      "Visiting: https://travel.state.gov/content/travel/en/contact-us.html (Level 1) — 7\n",
      "Visiting: https://travel.state.gov/content/travel/en/about-us/mytravelgov.html (Level 1) — 8\n",
      "Visiting: https://travel.state.gov/content/congress-liaison-home/en/Congressional_Liaison.html (Level 1) — 9\n",
      "Visiting: https://travel.state.gov/content/special-issuance-agency-home/en/spec-issuance-agency.html (Level 1) — 10\n",
      "Visiting: https://travel.state.gov/content/travel/en/passports.html (Level 1) — 11\n",
      "Visiting: https://travel.state.gov/content/travel/en/international-travel.html (Level 1) — 12\n",
      "Visiting: https://travel.state.gov/content/travel/en/us-visas.html (Level 1) — 13\n",
      "Visiting: https://travel.state.gov/content/travel/en/Intercountry-Adoption.html (Level 1) — 14\n",
      "Visiting: https://travel.state.gov/content/travel/en/International-Parental-Child-Abduction.html (Level 1) — 15\n",
      "Visiting: https://travel.state.gov/content/travel/en/records-and-authentications.html (Level 1) — 16\n",
      "Visiting: https://travel.state.gov/content/travel/en/rss.html (Level 1) — 17\n",
      "Visiting: https://travel.state.gov/content/travel/en/legal.html (Level 1) — 18\n",
      "Visiting: https://travel.state.gov/content/travel/en/consularnotification.html (Level 1) — 19\n",
      "Visiting: https://travel.state.gov/en/congressional-liaison.html (Level 1) — 20\n",
      "Visiting: https://travel.state.gov/content/travel/en/replace-certify-docs.html (Level 1) — 21\n",
      "Visiting: https://travel.state.gov/content/travel/en/us-visas/business.html (Level 1) — 22\n",
      "Visiting: https://travel.state.gov/content/travel/en/us-visas/employment.html (Level 1) — 23\n",
      "Visiting: https://travel.state.gov/content/travel/en/us-visas/study.html (Level 1) — 24\n",
      "Visiting: https://travel.state.gov/content/travel/en/us-visas/immigrate.html (Level 1) — 25\n",
      "Visiting: https://travel.state.gov/content/travel/en/us-visas/other-visa-categories.html (Level 1) — 26\n",
      "Visiting: https://travel.state.gov/content/travel/en/us-visas/Visa-Reciprocity-and-Civil-Documents-by-Country.html (Level 1) — 27\n",
      "Visiting: https://travel.state.gov/content/travel/en/us-visas/tourism-visit/visitor.html (Level 1) — 28\n",
      "Visiting: https://travel.state.gov/content/travel/en/us-visas/tourism-visit/visa-waiver-program.html (Level 1) — 29\n",
      "Visiting: https://travel.state.gov/content/travel/en/us-visas/tourism-visit/travel-without-a-visa.html (Level 1) — 30\n",
      "Visiting: https://travel.state.gov/content/travel/en/us-visas/tourism-visit/citizens-of-canada-and-bermuda.html (Level 1) — 31\n",
      "Visiting: https://travel.state.gov/content/travel/en/us-visas/tourism-visit/visitor.html#overview (Level 1) — 32\n",
      "Visiting: https://travel.state.gov/content/travel/en/us-visas/tourism-visit/visitor.html#apply (Level 1) — 33\n",
      "Visiting: https://travel.state.gov/content/travel/en/us-visas/tourism-visit/visitor.html#fees (Level 1) — 34\n",
      "Visiting: https://travel.state.gov/content/travel/en/us-visas/tourism-visit/visitor.html#documentation (Level 1) — 35\n",
      "Visiting: https://travel.state.gov/content/travel/en/us-visas/visa-information-resources/all-visa-categories.html (Level 1) — 36\n",
      "Visiting: https://travel.state.gov/content/travel/en/us-visas/visa-information-resources/wizard.html (Level 1) — 37\n",
      "Visiting: https://travel.state.gov/content/travel/en/News/visas-news/archive.html (Level 1) — 38\n",
      "Visiting: https://travel.state.gov/content/travel/en/us-visas/visa-information-resources/a-z-index.html (Level 1) — 39\n",
      "Visiting: https://travel.state.gov/content/travel/en/us-visas/visa-information-resources/rights.html (Level 1) — 40\n",
      "Visiting: https://travel.state.gov/content/travel/en/us-visas/visa-information-resources/lost-stolen-visas.html (Level 1) — 41\n",
      "Visiting: https://travel.state.gov/content/travel/en/us-visas/visa-information-resources/visa-denials.html (Level 1) — 42\n",
      "Visiting: https://travel.state.gov/content/travel/en/us-visas/visa-information-resources/waivers.html (Level 1) — 43\n",
      "Visiting: https://travel.state.gov/content/travel/en/us-visas/visa-information-resources/straight-facts-on-u-s-visas.html (Level 1) — 44\n",
      "Visiting: https://travel.state.gov/content/travel/en/us-visas/visa-information-resources/customer-service-statement.html (Level 1) — 45\n",
      "Visiting: https://travel.state.gov/content/travel/en/us-visas/visa-information-resources/frequently-asked-questions/about-basics.html (Level 1) — 46\n",
      "Visiting: https://travel.state.gov/content/travel/en/copyright-disclaimer.html (Level 1) — 47\n",
      "Visiting: https://travel.state.gov/content/travel.html#inner-content (Level 2) — 48\n",
      "Visiting: https://travel.state.gov/content/travel/en/replace-certify-docs/requesting-a-record.html (Level 2) — 49\n",
      "Visiting: https://travel.state.gov/content/travel/en/replace-certify-docs/authenticate-your-document.html (Level 2) — 50\n",
      "50 documents scraped for usa\n",
      "Getting Data from UK (up to level 2)...\n",
      "Visiting: https://www.gov.uk/standard-visitor (Level 0) — 1\n",
      "Visiting: https://www.gov.uk/help/cookies (Level 1) — 2\n",
      "Visiting: https://www.gov.uk/standard-visitor#content (Level 1) — 3\n",
      "Visiting: https://www.gov.uk (Level 1) — 4\n",
      "Visiting: https://www.gov.uk/browse (Level 1) — 5\n",
      "Visiting: https://www.gov.uk/search (Level 1) — 6\n",
      "Visiting: https://www.gov.uk/browse/benefits (Level 1) — 7\n",
      "Visiting: https://www.gov.uk/browse/births-deaths-marriages (Level 1) — 8\n",
      "Visiting: https://www.gov.uk/browse/business (Level 1) — 9\n",
      "Visiting: https://www.gov.uk/browse/childcare-parenting (Level 1) — 10\n",
      "Visiting: https://www.gov.uk/browse/citizenship (Level 1) — 11\n",
      "Visiting: https://www.gov.uk/browse/justice (Level 1) — 12\n",
      "Visiting: https://www.gov.uk/browse/disabilities (Level 1) — 13\n",
      "Visiting: https://www.gov.uk/browse/driving (Level 1) — 14\n",
      "Visiting: https://www.gov.uk/browse/education (Level 1) — 15\n",
      "Visiting: https://www.gov.uk/browse/employing-people (Level 1) — 16\n",
      "Visiting: https://www.gov.uk/browse/environment-countryside (Level 1) — 17\n",
      "Visiting: https://www.gov.uk/browse/housing-local-services (Level 1) — 18\n",
      "Visiting: https://www.gov.uk/browse/tax (Level 1) — 19\n",
      "Visiting: https://www.gov.uk/browse/abroad (Level 1) — 20\n",
      "Visiting: https://www.gov.uk/browse/visas-immigration (Level 1) — 21\n",
      "Visiting: https://www.gov.uk/browse/working (Level 1) — 22\n",
      "Visiting: https://www.gov.uk/government/organisations (Level 1) — 23\n",
      "Visiting: https://www.gov.uk/search/news-and-communications (Level 1) — 24\n",
      "Visiting: https://www.gov.uk/search/guidance-and-regulation (Level 1) — 25\n",
      "Visiting: https://www.gov.uk/search/research-and-statistics (Level 1) — 26\n",
      "Visiting: https://www.gov.uk/search/policy-papers-and-consultations (Level 1) — 27\n",
      "Visiting: https://www.gov.uk/search/transparency-and-freedom-of-information-releases (Level 1) — 28\n",
      "Visiting: https://www.gov.uk/ (Level 1) — 29\n",
      "Visiting: https://www.gov.uk/browse/visas-immigration/tourist-short-stay-visas (Level 1) — 30\n",
      "Visiting: https://www.gov.uk/standard-visitor#guide-contents (Level 1) — 31\n",
      "Visiting: https://www.gov.uk/standard-visitor/visit-on-business (Level 1) — 32\n",
      "Visiting: https://www.gov.uk/standard-visitor/visit-to-study (Level 1) — 33\n",
      "Visiting: https://www.gov.uk/standard-visitor/visit-as-an-academic (Level 1) — 34\n",
      "Visiting: https://www.gov.uk/standard-visitor/paid-engagement-event (Level 1) — 35\n",
      "Visiting: https://www.gov.uk/standard-visitor/visit-for-medical-reasons (Level 1) — 36\n",
      "Visiting: https://www.gov.uk/standard-visitor/if-youre-under-18 (Level 1) — 37\n",
      "Visiting: https://www.gov.uk/standard-visitor/apply-standard-visitor-visa (Level 1) — 38\n",
      "Visiting: https://www.gov.uk/standard-visitor/extend-your-stay (Level 1) — 39\n",
      "Visiting: https://www.gov.uk/marriage-visa (Level 1) — 40\n",
      "Visiting: https://www.gov.uk/guidance/travelling-between-the-uk-and-ireland-isle-of-man-guernsey-or-jersey (Level 1) — 41\n",
      "Visiting: https://www.gov.uk/guidance/apply-for-an-electronic-travel-authorisation-eta (Level 1) — 42\n",
      "Visiting: https://www.gov.uk/check-uk-visa (Level 1) — 43\n",
      "Visiting: https://www.gov.uk/transit-visa/visitor-in-transit-visa (Level 1) — 44\n",
      "Visiting: https://www.gov.uk/standard-visitor/print (Level 1) — 45\n",
      "Visiting: https://www.gov.uk/transit-visa (Level 1) — 46\n",
      "Visiting: https://www.gov.uk/browse/visas-immigration/student-visas (Level 1) — 47\n",
      "Visiting: https://www.gov.uk/contact/govuk (Level 1) — 48\n",
      "Visiting: https://www.gov.uk/government/how-government-works (Level 1) — 49\n",
      "Visiting: https://www.gov.uk/government/get-involved (Level 1) — 50\n",
      "50 documents scraped for uk\n",
      "\n",
      "Total documents: 150\n"
     ]
    }
   ],
   "source": [
    "MAX_DEPTH = 2\n",
    "MAX_PAGES=50\n",
    "\n",
    "all_documents = []\n",
    "\n",
    "for country, url in TRAVEL_URLS.items():\n",
    "    print(f\"Getting Data from {country.upper()} (up to level {MAX_DEPTH})...\")\n",
    "    docs = scrape_data(url, country, max_depth=MAX_DEPTH, max_pages=MAX_PAGES)\n",
    "    print(f\"{len(docs)} documents scraped for {country}\")\n",
    "    all_documents.extend(docs)\n",
    "\n",
    "print(f\"\\nTotal documents: {len(all_documents)}\")\n"
   ]
  },
  {
   "cell_type": "code",
   "execution_count": 6,
   "id": "bff64924-dc33-4966-afe4-662e25c5d91a",
   "metadata": {},
   "outputs": [
    {
     "name": "stdout",
     "output_type": "stream",
     "text": [
      "\n",
      "Sample Document:\n",
      "Source: canada\n",
      "URL: https://www.canada.ca/en/immigration-refugees-citizenship/services/visit-canada.html\n",
      "Level: 0\n",
      "\n",
      "Content preview:\n",
      " Find out what document you need to travel, visit family and friends, do business, or transit through Canada, and how to extend your stay.\n",
      "What a visitor visa is, who is eligible and how to apply\n",
      "What an eTA is, eligibility and how to apply online\n",
      "How to extend your stay in Canada\n",
      "How to get a new visa from inside Canada\n",
      "Who is eligible and how to apply for a super visa that lets you stay with family in Canada for 5\n",
      "                    years at a time\n",
      "Find out about the travel documents you need and what to bring to Canada as a business visitor\n",
      "What it means to transit through Canada and which documents you need\n",
      "Travel tips, what happens at the border, and prohibited or restricted goods\n",
      "Answer a few questions to see different ways you might be able to come to Canada\n"
     ]
    }
   ],
   "source": [
    "## Show one sample\n",
    "print(\"\\nSample Document:\")\n",
    "print(\"Source:\", all_documents[0].metadata['source'])\n",
    "print(\"URL:\", all_documents[0].metadata['url'])\n",
    "print(\"Level:\", all_documents[0].metadata['level'])\n",
    "print(\"\\nContent preview:\\n\", all_documents[0].page_content[:1000])  "
   ]
  },
  {
   "cell_type": "code",
   "execution_count": 7,
   "id": "88306d9e-bc8e-41e7-a203-16626042765b",
   "metadata": {},
   "outputs": [
    {
     "name": "stdout",
     "output_type": "stream",
     "text": [
      "Country: canada\n",
      "URL: https://www.canada.ca/en/immigration-refugees-citizenship/services/visit-canada.html\n",
      "Level: 0\n",
      "Data Content:\n",
      " Find out what document you need to travel, visit family and friends, do business, or transit through Canada, and how to extend your stay.\n",
      "What a visitor visa is, who is eligible and how to apply\n",
      "What an eTA is, eligibility and how to apply online\n",
      "How to extend your stay in Canada\n",
      "How to get a new visa from inside Canada\n",
      "Who is eligible and how to apply for a super visa that lets you stay with family in Canada for 5\n",
      "                    years at a time\n",
      "Find out about the travel documents you need \n",
      "...\n",
      "Country: canada\n",
      "URL: https://www.canada.ca/en/immigration-refugees-citizenship/services/visit-canada.html#wb-cont\n",
      "Level: 1\n",
      "Data Content:\n",
      " Find out what document you need to travel, visit family and friends, do business, or transit through Canada, and how to extend your stay.\n",
      "What a visitor visa is, who is eligible and how to apply\n",
      "What an eTA is, eligibility and how to apply online\n",
      "How to extend your stay in Canada\n",
      "How to get a new visa from inside Canada\n",
      "Who is eligible and how to apply for a super visa that lets you stay with family in Canada for 5\n",
      "                    years at a time\n",
      "Find out about the travel documents you need \n",
      "...\n",
      "Country: canada\n",
      "URL: https://www.canada.ca/en/immigration-refugees-citizenship/services/visit-canada.html#wb-info\n",
      "Level: 1\n",
      "Data Content:\n",
      " Find out what document you need to travel, visit family and friends, do business, or transit through Canada, and how to extend your stay.\n",
      "What a visitor visa is, who is eligible and how to apply\n",
      "What an eTA is, eligibility and how to apply online\n",
      "How to extend your stay in Canada\n",
      "How to get a new visa from inside Canada\n",
      "Who is eligible and how to apply for a super visa that lets you stay with family in Canada for 5\n",
      "                    years at a time\n",
      "Find out about the travel documents you need \n",
      "...\n"
     ]
    }
   ],
   "source": [
    "## Show first 3 documents\n",
    "for i, doc in enumerate(all_documents[:3]):\n",
    "    print(\"Country:\", doc.metadata['source'])\n",
    "    print(\"URL:\", doc.metadata['url'])\n",
    "    print(\"Level:\", doc.metadata['level'])\n",
    "    print(\"Data Content:\\n\", doc.page_content[:500], \"\\n...\")\n"
   ]
  },
  {
   "cell_type": "markdown",
   "id": "53c61930-8865-4991-8d16-d169cec63a73",
   "metadata": {},
   "source": [
    "## Chunk Text ##"
   ]
  },
  {
   "cell_type": "markdown",
   "id": "fed8b0a1-ff76-49b6-b111-8790a6ff8ded",
   "metadata": {},
   "source": [
    "We need to split the scraped content into smaller, more manageable pieces called \"chunks.\" LangChain’s ```RecursiveCharacterTextSplitter``` does this by attempting to break large blocks of text at logical boundaries using a prioritized set of characters:\n",
    "\n",
    "- \"\\n\\n\" - two new line characters\n",
    "- \"\\n\" - one new line character\n",
    "- \" \" - a space\n",
    "- \"\" - an empty character\n",
    "\n",
    "It starts with the first option, \"\\n\\n\" and moves through the list if the resulting pieces are still too long. This method ensures that splits happen in the most natural way possible.\n",
    "\n",
    "For this project, we'll use a chunk size of 500 characters with a 50-character overlap. This provides the model with enough context to form meaningful answers without overwhelming it. Larger chunks (like 1000 characters) led to noisy and confused results in earlier testing, so I refined it to this size."
   ]
  },
  {
   "cell_type": "code",
   "execution_count": 8,
   "id": "91d270be-3a2b-4bc5-8492-ddd311c92c35",
   "metadata": {},
   "outputs": [],
   "source": [
    "splitter = RecursiveCharacterTextSplitter(chunk_size=500, chunk_overlap=50)\n",
    "chunked_docs = splitter.split_documents(all_documents)"
   ]
  },
  {
   "cell_type": "markdown",
   "id": "8e6e5742-66f1-4b7b-a3a2-44cd666ab38c",
   "metadata": {},
   "source": [
    "## Embeddings and Vectorstore ##"
   ]
  },
  {
   "cell_type": "markdown",
   "id": "45e1138b-e0a8-419a-bcbd-78c8843c385c",
   "metadata": {},
   "source": [
    "Choosing the right embedding model is critical to how well the assistant can understand and retrieve relevant information. Since this project uses text scraped from visa-related government websites, we'll use OpenAI’s ```text-embedding-ada-002``` model through the ```OpenAIEmbeddings``` interface from the ```langchain_openai``` package.\n",
    "\n",
    "This model is optimized for semantic similarity and works well in question-answering tasks like this one. Although there are open-source alternatives like GloVe, Word2Vec, FastText, or transformer-based models like BERT and RoBERTa, OpenAI’s model was chosen for its ease of integration and high-quality embeddings.\n",
    "\n",
    "That said, using OpenAI’s embedding API incurs usage costs. If you're looking for a free, local alternative, you can explore ```HuggingFaceEmbeddings``` with sentence-transformers, though the quality may vary slightly depending on your hardware setup.\n",
    "\n",
    "Here’s how the embeddings and FAISS index were set up:"
   ]
  },
  {
   "cell_type": "code",
   "execution_count": 9,
   "id": "ef048591-65bf-495d-8950-42035c0f7fa1",
   "metadata": {},
   "outputs": [],
   "source": [
    "from langchain_openai import OpenAIEmbeddings\n",
    "\n",
    "embeddings = OpenAIEmbeddings(openai_api_key=api_key)\n",
    "vectorstore = FAISS.from_documents(chunked_docs, embeddings)\n"
   ]
  },
  {
   "cell_type": "markdown",
   "id": "98d3fe24-a9ea-4d90-ad35-4ddf193dc0ea",
   "metadata": {},
   "source": [
    "## Setup Model and Retriever"
   ]
  },
  {
   "cell_type": "markdown",
   "id": "7d7094c6-ecc1-410c-b409-2e112544ac16",
   "metadata": {},
   "source": [
    "The next step is to turn our FAISS vectorstore into a retriever. This retriever will fetch relevant chunks of visa content to provide context for our generative model. The context helps the LLM generate more accurate and grounded responses.\n",
    "\n",
    "In this project, we'll use OpenAI’s gpt-4 model through LangChain. It was selected for its strong performance in question-answering tasks, especially when combined with relevant context. Alternatives like local models were not chosen due to the memory and compute requirements.\n",
    "\n",
    "Here’s how the retrieval and model setup looks:"
   ]
  },
  {
   "cell_type": "code",
   "execution_count": 10,
   "id": "05e510aa-64dd-4821-b0e1-d7b5ad991d17",
   "metadata": {},
   "outputs": [
    {
     "name": "stderr",
     "output_type": "stream",
     "text": [
      "/var/folders/98/p89mc3nd1d34f9jndy3v2lz00000gn/T/ipykernel_90393/4252096736.py:4: LangChainDeprecationWarning: The class `ChatOpenAI` was deprecated in LangChain 0.0.10 and will be removed in 1.0. An updated version of the class exists in the langchain-openai package and should be used instead. To use it run `pip install -U langchain-openai` and import as `from langchain_openai import ChatOpenAI`.\n",
      "  llm = ChatOpenAI(model_name=\"gpt-4\", openai_api_key=api_key)\n"
     ]
    }
   ],
   "source": [
    "from langchain_community.chat_models import ChatOpenAI\n",
    "from langchain.chains import RetrievalQA\n",
    "\n",
    "llm = ChatOpenAI(model_name=\"gpt-4\", openai_api_key=api_key)\n",
    "\n",
    "qa_chain = RetrievalQA.from_chain_type(\n",
    "    llm=llm,\n",
    "    retriever=vectorstore.as_retriever()\n",
    ")"
   ]
  },
  {
   "cell_type": "markdown",
   "id": "42ad47d5-418b-4f80-bd21-74cf5710516d",
   "metadata": {},
   "source": [
    "## Ask Question ##"
   ]
  },
  {
   "cell_type": "code",
   "execution_count": 11,
   "id": "b0164f8c-36e8-486a-983f-2b2f91437e3d",
   "metadata": {},
   "outputs": [
    {
     "name": "stdout",
     "output_type": "stream",
     "text": [
      "Answer: Anyone who meets the requirements needed to travel to Canada can apply for a visitor visa. This includes individuals who want to visit Canada for business, tourism, or to visit family and friends. However, permanent residents of Canada must have a nonimmigrant visa. You may also need to give biometrics with your application. Additionally, up to 2 adults can be identified in your visa application.\n"
     ]
    }
   ],
   "source": [
    "test_question = \"Who can apply for visitor visa in canada?\"\n",
    "answer = qa_chain.invoke(test_question)\n",
    "print(\"Answer:\", answer['result'])\n"
   ]
  },
  {
   "cell_type": "code",
   "execution_count": 12,
   "id": "7d6e6f0a-e994-4989-a6f9-80801333318f",
   "metadata": {},
   "outputs": [
    {
     "name": "stdout",
     "output_type": "stream",
     "text": [
      "Answer: Citizens of Canada traveling to the United States generally do not require a nonimmigrant visa, except for certain travel purposes. However, Canadian citizens who are inadmissible to the United States under United States immigration law or have previously violated the terms of their immigration status in the United States may need a visa. Permanent residents (landed immigrants) of Canada must have a nonimmigrant visa.\n"
     ]
    }
   ],
   "source": [
    "test_question = \"What is the visa requiremnts for the Citizens of Canada traveling to the United States?\"\n",
    "answer = qa_chain.invoke(test_question)\n",
    "print(\"Answer:\", answer['result'])\n"
   ]
  },
  {
   "cell_type": "code",
   "execution_count": 13,
   "id": "9ff2338f-8418-43e7-b6a7-f3d4399e1a3a",
   "metadata": {},
   "outputs": [
    {
     "name": "stdout",
     "output_type": "stream",
     "text": [
      "Answer: As an academic, you can visit the UK for up to 6 months to do research. If you're doing a distance learning course, your course can last longer than 6 months as most of your study will happen outside of the UK. You can also visit to do certain activities as part of your course. Before visiting, you must prove certain conditions, although these conditions are not specified in the provided context. If you are an academic, but not a senior doctor or dentist, you must also prove you're visiting to do research or a formal exchange. If you're a senior doctor or dentist, you must also prove you're visiting to do research, clinical practice, a formal exchange or to teach. In some cases, you may need to get an Academic Technology Approval Scheme (ATAS) certificate before you start your course or research, especially if you're researching certain subjects at postgraduate level or above.\n"
     ]
    }
   ],
   "source": [
    "test_question = \"How to visit as an Academic in UK?\"\n",
    "answer = qa_chain.invoke(test_question)\n",
    "print(\"Answer:\", answer['result'])\n"
   ]
  },
  {
   "cell_type": "markdown",
   "id": "903d14db-7219-4270-8535-162fb8d2f625",
   "metadata": {},
   "source": [
    "## Add a Gradio Interface ##"
   ]
  },
  {
   "cell_type": "markdown",
   "id": "078b6275-d196-4efd-9ec7-db6830cd9bac",
   "metadata": {},
   "source": [
    "Once everything is set up and tested, it's time to make the assistant interactive. Here, we'll use Gradio to quickly create a user-friendly web interface that lets anyone ask visa-related questions in a textbox and receive an answer from the model in real time. This is the final step in turning your RAG pipeline into a usable application."
   ]
  },
  {
   "cell_type": "code",
   "execution_count": 14,
   "id": "25bdd61c-b844-4ddb-a6dd-822356df528d",
   "metadata": {},
   "outputs": [
    {
     "name": "stdout",
     "output_type": "stream",
     "text": [
      "Running on local URL:  http://127.0.0.1:7860\n",
      "\n",
      "To create a public link, set `share=True` in `launch()`.\n"
     ]
    },
    {
     "data": {
      "text/html": [
       "<div><iframe src=\"http://127.0.0.1:7860/\" width=\"100%\" height=\"500\" allow=\"autoplay; camera; microphone; clipboard-read; clipboard-write;\" frameborder=\"0\" allowfullscreen></iframe></div>"
      ],
      "text/plain": [
       "<IPython.core.display.HTML object>"
      ]
     },
     "metadata": {},
     "output_type": "display_data"
    },
    {
     "data": {
      "text/plain": []
     },
     "execution_count": 14,
     "metadata": {},
     "output_type": "execute_result"
    }
   ],
   "source": [
    "import gradio as gr\n",
    "\n",
    "def travel_assistant(user_input):\n",
    "    try:\n",
    "        response = qa_chain.invoke(user_input)\n",
    "        return response['result']\n",
    "    except Exception as e:\n",
    "        return f\"Error: {e}\"\n",
    "\n",
    "\n",
    "gr.Interface(\n",
    "    fn=travel_assistant,\n",
    "    inputs=gr.Textbox(lines=2, placeholder=\"Ask your visa related question\"),\n",
    "    outputs=gr.Textbox(label=\"Answer\"),\n",
    "    title=\"Visa Assistant\",\n",
    "    description=\"Ask travel-related visa questions\"\n",
    ").launch(inline=True)\n"
   ]
  },
  {
   "cell_type": "markdown",
   "id": "e20d6105-efba-43bc-a0b3-a7b481644e7f",
   "metadata": {},
   "source": [
    "✅ That’s it! You now have a working English-only visa assistant that scrapes real data, finds relevant context, and answers your questions with GPT-4."
   ]
  }
 ],
 "metadata": {
  "kernelspec": {
   "display_name": "Python 3 (ipykernel)",
   "language": "python",
   "name": "python3"
  },
  "language_info": {
   "codemirror_mode": {
    "name": "ipython",
    "version": 3
   },
   "file_extension": ".py",
   "mimetype": "text/x-python",
   "name": "python",
   "nbconvert_exporter": "python",
   "pygments_lexer": "ipython3",
   "version": "3.8.11"
  }
 },
 "nbformat": 4,
 "nbformat_minor": 5
}
