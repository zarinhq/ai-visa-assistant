{
 "cells": [
  {
   "cell_type": "markdown",
   "id": "0748ca25-c83a-493b-aecd-62e297e832f4",
   "metadata": {},
   "source": [
    "## Installing Dependencies ##"
   ]
  },
  {
   "cell_type": "code",
   "execution_count": 1,
   "id": "1c426a72-3342-43b9-b823-0fcb273101ce",
   "metadata": {},
   "outputs": [],
   "source": [
    "import os\n",
    "from dotenv import load_dotenv\n",
    "from huggingface_hub import login\n",
    "\n",
    "load_dotenv()\n",
    "api_key = os.getenv(\"OPENAI_API_KEY\")\n",
    "\n",
    "HF_TOKEN = os.getenv(\"HF_TOKEN\")"
   ]
  },
  {
   "cell_type": "code",
   "execution_count": 2,
   "id": "7e2bc649-d300-408e-9700-e2645938fe22",
   "metadata": {},
   "outputs": [
    {
     "name": "stderr",
     "output_type": "stream",
     "text": [
      "USER_AGENT environment variable not set, consider setting it to identify your requests.\n"
     ]
    }
   ],
   "source": [
    "from langchain_community.document_loaders import WebBaseLoader\n",
    "from langchain.text_splitter import RecursiveCharacterTextSplitter\n",
    "from langchain_openai import OpenAIEmbeddings\n",
    "from langchain.chains import RetrievalQA\n",
    "from langchain.llms import OpenAI\n",
    "from deep_translator import GoogleTranslator\n",
    "from bs4 import BeautifulSoup\n",
    "import requests\n",
    "import gradio as gr\n",
    "from langchain.docstore.document import Document\n",
    "from langchain_community.vectorstores import FAISS\n",
    "from langchain_community.embeddings import HuggingFaceEmbeddings\n"
   ]
  },
  {
   "cell_type": "markdown",
   "id": "f9e1a205-5918-4215-a1ab-879191d2be96",
   "metadata": {},
   "source": [
    "## Data Content (Visa) ## "
   ]
  },
  {
   "cell_type": "code",
   "execution_count": 3,
   "id": "fad76bf5-60a0-4401-9d7b-1136b8ce9368",
   "metadata": {},
   "outputs": [],
   "source": [
    "TRAVEL_URLS = {\n",
    "    \"canada\": \"https://www.canada.ca/en/immigration-refugees-citizenship/services/visit-canada.html\",\n",
    "    \"usa\": \"https://travel.state.gov/content/travel/en/us-visas/tourism-visit.html\",\n",
    "    \"uk\": \"https://www.gov.uk/standard-visitor\",\n",
    "    # \"australia\": \"https://immi.homeaffairs.gov.au/visas/getting-a-visa/visa-finder/visit\",\n",
    "    # \"japan\": \"https://www.mofa.go.jp/j_info/visit/visa/index.html\",\n",
    "    # \"germany\": \"https://www.germany.info/us-en/service/visa-entry\",\n",
    "    # \"south_korea\": \"https://www.visa.go.kr/openPage.do?MENU_ID=10101\",\n",
    "    # \"new_zealand\": \"https://www.immigration.govt.nz/new-zealand-visas\",\n",
    "    # \"india\": \"https://indianvisaonline.gov.in/\",\n",
    "    # \"singapore\": \"https://www.ica.gov.sg/enter-transit-depart/entering-singapore\"\n",
    "}\n"
   ]
  },
  {
   "cell_type": "markdown",
   "id": "824b8f76-8c0e-4416-8875-c32cd0f0f319",
   "metadata": {},
   "source": [
    "## Load Data ##"
   ]
  },
  {
   "cell_type": "code",
   "execution_count": 4,
   "id": "9ef40488-2230-4e41-b80f-92d2f3388692",
   "metadata": {},
   "outputs": [],
   "source": [
    "from bs4 import BeautifulSoup\n",
    "from urllib.parse import urlparse, urljoin\n",
    "from collections import deque\n",
    "\n",
    "def scrape_data(start_url, country, max_depth=1, max_pages=10):\n",
    "    visited = set()\n",
    "    to_visit = deque([(start_url, 0)])\n",
    "    documents = []\n",
    "\n",
    "    while to_visit and len(visited) < max_pages:\n",
    "        current_url, level = to_visit.popleft()\n",
    "        if current_url in visited or level > max_depth:\n",
    "            continue\n",
    "\n",
    "        try:\n",
    "            response = requests.get(current_url, timeout=10)\n",
    "            soup = BeautifulSoup(response.text, \"html.parser\")\n",
    "            paragraphs = soup.find_all(\"p\")\n",
    "            text = \"\\n\".join(p.get_text(strip=True) for p in paragraphs)\n",
    "\n",
    "            if text.strip():\n",
    "                documents.append(\n",
    "                    Document(\n",
    "                        page_content=text,\n",
    "                        metadata={\"source\": country, \"url\": current_url, \"level\": level}\n",
    "                    )\n",
    "                )\n",
    "                print(f\"Visiting: {current_url} (Level {level}) — {len(visited)+1}\")\n",
    "\n",
    "\n",
    "            visited.add(current_url)\n",
    "\n",
    "            base_netloc = urlparse(start_url).netloc\n",
    "            for a_tag in soup.find_all(\"a\", href=True):\n",
    "                href = a_tag[\"href\"]\n",
    "                full_url = urljoin(current_url, href)\n",
    "                if urlparse(full_url).netloc == base_netloc and full_url not in visited:\n",
    "                    to_visit.append((full_url, level + 1))\n",
    "\n",
    "        except Exception as e:\n",
    "            print(f\"Failed to visit {current_url}: {e}\")\n",
    "\n",
    "    return documents\n"
   ]
  },
  {
   "cell_type": "code",
   "execution_count": 5,
   "id": "aa7769d9-3d6f-4d07-8e61-046c31adf991",
   "metadata": {},
   "outputs": [
    {
     "name": "stdout",
     "output_type": "stream",
     "text": [
      "Getting Data from CANADA (up to level 2)...\n",
      "Visiting: https://www.canada.ca/en/immigration-refugees-citizenship/services/visit-canada.html (Level 0) — 1\n",
      "Visiting: https://www.canada.ca/en/immigration-refugees-citizenship/services/visit-canada.html#wb-cont (Level 1) — 2\n",
      "Visiting: https://www.canada.ca/en/immigration-refugees-citizenship/services/visit-canada.html#wb-info (Level 1) — 3\n",
      "Visiting: https://www.canada.ca/fr/immigration-refugies-citoyennete/services/visiter-canada.html (Level 1) — 4\n",
      "Visiting: https://www.canada.ca/en.html (Level 1) — 5\n",
      "Visiting: https://www.canada.ca/en/services/jobs.html (Level 1) — 6\n",
      "Visiting: https://www.canada.ca/en/services/immigration-citizenship.html (Level 1) — 7\n",
      "Visiting: https://www.canada.ca/en/services/business.html (Level 1) — 8\n",
      "Visiting: https://www.canada.ca/en/services/benefits.html (Level 1) — 9\n",
      "Visiting: https://www.canada.ca/en/services/health.html (Level 1) — 10\n",
      "Visiting: https://www.canada.ca/en/services/taxes.html (Level 1) — 11\n",
      "Visiting: https://www.canada.ca/en/services/environment.html (Level 1) — 12\n",
      "Visiting: https://www.canada.ca/en/services/defence.html (Level 1) — 13\n",
      "Visiting: https://www.canada.ca/en/services/culture.html (Level 1) — 14\n",
      "Visiting: https://www.canada.ca/en/services/policing.html (Level 1) — 15\n",
      "Visiting: https://www.canada.ca/en/services/transport.html (Level 1) — 16\n",
      "Visiting: https://www.canada.ca/en/services/finance.html (Level 1) — 17\n",
      "Visiting: https://www.canada.ca/en/services/science.html (Level 1) — 18\n",
      "Visiting: https://www.canada.ca/en/immigration-refugees-citizenship/services/application/ircc-accounts.html (Level 1) — 19\n",
      "Visiting: https://www.canada.ca/en/immigration-refugees-citizenship/services/visit-canada/accounts.html (Level 1) — 20\n",
      "Visiting: https://www.canada.ca/en/immigration-refugees-citizenship/services/application/check-status.html (Level 1) — 21\n",
      "Visiting: https://www.canada.ca/en/immigration-refugees-citizenship/services/application/check-processing-times.html (Level 1) — 22\n",
      "Visiting: https://www.canada.ca/en/immigration-refugees-citizenship/services/visit-canada/visitor-visa.html (Level 1) — 23\n",
      "Visiting: https://www.canada.ca/en/immigration-refugees-citizenship/services/visit-canada/eta.html (Level 1) — 24\n",
      "Visiting: https://www.canada.ca/en/immigration-refugees-citizenship/services/visit-canada/extend-stay.html (Level 1) — 25\n",
      "Visiting: https://www.canada.ca/en/immigration-refugees-citizenship/services/visit-canada/apply-new-temporary-resident-visa-within-canada.html (Level 1) — 26\n",
      "Visiting: https://www.canada.ca/en/immigration-refugees-citizenship/services/visit-canada/parent-grandparent-super-visa.html (Level 1) — 27\n",
      "Visiting: https://www.canada.ca/en/immigration-refugees-citizenship/services/visit-canada/business.html (Level 1) — 28\n",
      "Visiting: https://www.canada.ca/en/immigration-refugees-citizenship/services/visit-canada/transit.html (Level 1) — 29\n",
      "Visiting: https://www.canada.ca/en/immigration-refugees-citizenship.html (Level 1) — 30\n",
      "Visiting: https://www.canada.ca/en/immigration-refugees-citizenship/corporate/contact-ircc.html (Level 1) — 31\n",
      "Visiting: https://www.canada.ca/en/contact.html (Level 1) — 32\n",
      "Visiting: https://www.canada.ca/en/government/dept.html (Level 1) — 33\n",
      "Visiting: https://www.canada.ca/en/government/system.html (Level 1) — 34\n",
      "Visiting: https://www.canada.ca/en/services/indigenous-peoples.html (Level 1) — 35\n",
      "Visiting: https://www.canada.ca/en/services/veterans-military.html (Level 1) — 36\n",
      "Visiting: https://www.canada.ca/en/services/youth.html (Level 1) — 37\n",
      "Visiting: https://www.canada.ca/en/social.html (Level 1) — 38\n",
      "Visiting: https://www.canada.ca/en/mobile.html (Level 1) — 39\n",
      "Visiting: https://www.canada.ca/en/government/about.html (Level 1) — 40\n",
      "Visiting: https://www.canada.ca/en/transparency/terms.html (Level 1) — 41\n",
      "Visiting: https://www.canada.ca/en/transparency/privacy.html (Level 1) — 42\n",
      "Visiting: https://www.canada.ca/fr/immigration-refugies-citoyennete/services/visiter-canada.html#wb-cont (Level 2) — 43\n",
      "Visiting: https://www.canada.ca/fr/immigration-refugies-citoyennete/services/visiter-canada.html#wb-info (Level 2) — 44\n",
      "Visiting: https://www.canada.ca/fr.html (Level 2) — 45\n",
      "Visiting: https://www.canada.ca/fr/services/emplois.html (Level 2) — 46\n",
      "Visiting: https://www.canada.ca/fr/services/immigration-citoyennete.html (Level 2) — 47\n",
      "Visiting: https://www.canada.ca/fr/services/entreprises.html (Level 2) — 48\n",
      "Visiting: https://www.canada.ca/fr/services/prestations.html (Level 2) — 49\n",
      "Visiting: https://www.canada.ca/fr/services/sante.html (Level 2) — 50\n",
      "50 documents scraped for canada\n",
      "Getting Data from USA (up to level 2)...\n",
      "Visiting: https://travel.state.gov/content/travel/en/us-visas/tourism-visit.html (Level 0) — 1\n",
      "Visiting: https://travel.state.gov/content/travel/en/us-visas/tourism-visit.html#inner-content (Level 1) — 2\n",
      "Visiting: https://travel.state.gov/content/travel.html (Level 1) — 3\n",
      "Visiting: https://travel.state.gov/content/travel/en/traveladvisories/traveladvisories.html (Level 1) — 4\n",
      "Visiting: https://travel.state.gov/content/travel/en/News/newsroom.html (Level 1) — 5\n",
      "Visiting: https://travel.state.gov/content/travel/en/about-us.html (Level 1) — 6\n",
      "Visiting: https://travel.state.gov/content/travel/en/contact-us.html (Level 1) — 7\n",
      "Visiting: https://travel.state.gov/content/travel/en/about-us/mytravelgov.html (Level 1) — 8\n",
      "Visiting: https://travel.state.gov/content/congress-liaison-home/en/Congressional_Liaison.html (Level 1) — 9\n",
      "Visiting: https://travel.state.gov/content/special-issuance-agency-home/en/spec-issuance-agency.html (Level 1) — 10\n",
      "Visiting: https://travel.state.gov/content/travel/en/passports.html (Level 1) — 11\n",
      "Visiting: https://travel.state.gov/content/travel/en/international-travel.html (Level 1) — 12\n",
      "Visiting: https://travel.state.gov/content/travel/en/us-visas.html (Level 1) — 13\n",
      "Visiting: https://travel.state.gov/content/travel/en/Intercountry-Adoption.html (Level 1) — 14\n",
      "Visiting: https://travel.state.gov/content/travel/en/International-Parental-Child-Abduction.html (Level 1) — 15\n",
      "Visiting: https://travel.state.gov/content/travel/en/records-and-authentications.html (Level 1) — 16\n",
      "Visiting: https://travel.state.gov/content/travel/en/rss.html (Level 1) — 17\n",
      "Visiting: https://travel.state.gov/content/travel/en/legal.html (Level 1) — 18\n",
      "Visiting: https://travel.state.gov/content/travel/en/consularnotification.html (Level 1) — 19\n",
      "Visiting: https://travel.state.gov/en/congressional-liaison.html (Level 1) — 20\n",
      "Visiting: https://travel.state.gov/content/travel/en/replace-certify-docs.html (Level 1) — 21\n",
      "Visiting: https://travel.state.gov/content/travel/en/us-visas/business.html (Level 1) — 22\n",
      "Visiting: https://travel.state.gov/content/travel/en/us-visas/employment.html (Level 1) — 23\n",
      "Visiting: https://travel.state.gov/content/travel/en/us-visas/study.html (Level 1) — 24\n",
      "Visiting: https://travel.state.gov/content/travel/en/us-visas/immigrate.html (Level 1) — 25\n",
      "Visiting: https://travel.state.gov/content/travel/en/us-visas/other-visa-categories.html (Level 1) — 26\n",
      "Visiting: https://travel.state.gov/content/travel/en/us-visas/Visa-Reciprocity-and-Civil-Documents-by-Country.html (Level 1) — 27\n",
      "Visiting: https://travel.state.gov/content/travel/en/us-visas/tourism-visit/visitor.html (Level 1) — 28\n",
      "Visiting: https://travel.state.gov/content/travel/en/us-visas/tourism-visit/visa-waiver-program.html (Level 1) — 29\n",
      "Visiting: https://travel.state.gov/content/travel/en/us-visas/tourism-visit/travel-without-a-visa.html (Level 1) — 30\n",
      "Visiting: https://travel.state.gov/content/travel/en/us-visas/tourism-visit/citizens-of-canada-and-bermuda.html (Level 1) — 31\n",
      "Visiting: https://travel.state.gov/content/travel/en/us-visas/tourism-visit/visitor.html#overview (Level 1) — 32\n",
      "Visiting: https://travel.state.gov/content/travel/en/us-visas/tourism-visit/visitor.html#apply (Level 1) — 33\n",
      "Visiting: https://travel.state.gov/content/travel/en/us-visas/tourism-visit/visitor.html#fees (Level 1) — 34\n",
      "Visiting: https://travel.state.gov/content/travel/en/us-visas/tourism-visit/visitor.html#documentation (Level 1) — 35\n",
      "Visiting: https://travel.state.gov/content/travel/en/us-visas/visa-information-resources/all-visa-categories.html (Level 1) — 36\n",
      "Visiting: https://travel.state.gov/content/travel/en/us-visas/visa-information-resources/wizard.html (Level 1) — 37\n",
      "Visiting: https://travel.state.gov/content/travel/en/News/visas-news/archive.html (Level 1) — 38\n",
      "Visiting: https://travel.state.gov/content/travel/en/us-visas/visa-information-resources/a-z-index.html (Level 1) — 39\n",
      "Visiting: https://travel.state.gov/content/travel/en/us-visas/visa-information-resources/rights.html (Level 1) — 40\n",
      "Visiting: https://travel.state.gov/content/travel/en/us-visas/visa-information-resources/lost-stolen-visas.html (Level 1) — 41\n",
      "Visiting: https://travel.state.gov/content/travel/en/us-visas/visa-information-resources/visa-denials.html (Level 1) — 42\n",
      "Visiting: https://travel.state.gov/content/travel/en/us-visas/visa-information-resources/waivers.html (Level 1) — 43\n",
      "Visiting: https://travel.state.gov/content/travel/en/us-visas/visa-information-resources/straight-facts-on-u-s-visas.html (Level 1) — 44\n",
      "Visiting: https://travel.state.gov/content/travel/en/us-visas/visa-information-resources/customer-service-statement.html (Level 1) — 45\n",
      "Visiting: https://travel.state.gov/content/travel/en/us-visas/visa-information-resources/frequently-asked-questions/about-basics.html (Level 1) — 46\n",
      "Visiting: https://travel.state.gov/content/travel/en/copyright-disclaimer.html (Level 1) — 47\n",
      "Visiting: https://travel.state.gov/content/travel.html#inner-content (Level 2) — 48\n",
      "Visiting: https://travel.state.gov/content/travel/en/replace-certify-docs/requesting-a-record.html (Level 2) — 49\n",
      "Visiting: https://travel.state.gov/content/travel/en/replace-certify-docs/authenticate-your-document.html (Level 2) — 50\n",
      "50 documents scraped for usa\n",
      "Getting Data from UK (up to level 2)...\n",
      "Visiting: https://www.gov.uk/standard-visitor (Level 0) — 1\n",
      "Visiting: https://www.gov.uk/help/cookies (Level 1) — 2\n",
      "Visiting: https://www.gov.uk/standard-visitor#content (Level 1) — 3\n",
      "Visiting: https://www.gov.uk (Level 1) — 4\n",
      "Visiting: https://www.gov.uk/browse (Level 1) — 5\n",
      "Visiting: https://www.gov.uk/search (Level 1) — 6\n",
      "Visiting: https://www.gov.uk/browse/benefits (Level 1) — 7\n",
      "Visiting: https://www.gov.uk/browse/births-deaths-marriages (Level 1) — 8\n",
      "Visiting: https://www.gov.uk/browse/business (Level 1) — 9\n",
      "Visiting: https://www.gov.uk/browse/childcare-parenting (Level 1) — 10\n",
      "Visiting: https://www.gov.uk/browse/citizenship (Level 1) — 11\n",
      "Visiting: https://www.gov.uk/browse/justice (Level 1) — 12\n",
      "Visiting: https://www.gov.uk/browse/disabilities (Level 1) — 13\n",
      "Visiting: https://www.gov.uk/browse/driving (Level 1) — 14\n",
      "Visiting: https://www.gov.uk/browse/education (Level 1) — 15\n",
      "Visiting: https://www.gov.uk/browse/employing-people (Level 1) — 16\n",
      "Visiting: https://www.gov.uk/browse/environment-countryside (Level 1) — 17\n",
      "Visiting: https://www.gov.uk/browse/housing-local-services (Level 1) — 18\n",
      "Visiting: https://www.gov.uk/browse/tax (Level 1) — 19\n",
      "Visiting: https://www.gov.uk/browse/abroad (Level 1) — 20\n",
      "Visiting: https://www.gov.uk/browse/visas-immigration (Level 1) — 21\n",
      "Visiting: https://www.gov.uk/browse/working (Level 1) — 22\n",
      "Visiting: https://www.gov.uk/government/organisations (Level 1) — 23\n",
      "Visiting: https://www.gov.uk/search/news-and-communications (Level 1) — 24\n",
      "Visiting: https://www.gov.uk/search/guidance-and-regulation (Level 1) — 25\n",
      "Visiting: https://www.gov.uk/search/research-and-statistics (Level 1) — 26\n",
      "Visiting: https://www.gov.uk/search/policy-papers-and-consultations (Level 1) — 27\n",
      "Visiting: https://www.gov.uk/search/transparency-and-freedom-of-information-releases (Level 1) — 28\n",
      "Visiting: https://www.gov.uk/ (Level 1) — 29\n",
      "Visiting: https://www.gov.uk/browse/visas-immigration/tourist-short-stay-visas (Level 1) — 30\n",
      "Visiting: https://www.gov.uk/standard-visitor#guide-contents (Level 1) — 31\n",
      "Visiting: https://www.gov.uk/standard-visitor/visit-on-business (Level 1) — 32\n",
      "Visiting: https://www.gov.uk/standard-visitor/visit-to-study (Level 1) — 33\n",
      "Visiting: https://www.gov.uk/standard-visitor/visit-as-an-academic (Level 1) — 34\n",
      "Visiting: https://www.gov.uk/standard-visitor/paid-engagement-event (Level 1) — 35\n",
      "Visiting: https://www.gov.uk/standard-visitor/visit-for-medical-reasons (Level 1) — 36\n",
      "Visiting: https://www.gov.uk/standard-visitor/if-youre-under-18 (Level 1) — 37\n",
      "Visiting: https://www.gov.uk/standard-visitor/apply-standard-visitor-visa (Level 1) — 38\n",
      "Visiting: https://www.gov.uk/standard-visitor/extend-your-stay (Level 1) — 39\n",
      "Visiting: https://www.gov.uk/marriage-visa (Level 1) — 40\n",
      "Visiting: https://www.gov.uk/guidance/travelling-between-the-uk-and-ireland-isle-of-man-guernsey-or-jersey (Level 1) — 41\n",
      "Visiting: https://www.gov.uk/guidance/apply-for-an-electronic-travel-authorisation-eta (Level 1) — 42\n",
      "Visiting: https://www.gov.uk/check-uk-visa (Level 1) — 43\n",
      "Visiting: https://www.gov.uk/transit-visa/visitor-in-transit-visa (Level 1) — 44\n",
      "Visiting: https://www.gov.uk/standard-visitor/print (Level 1) — 45\n",
      "Visiting: https://www.gov.uk/transit-visa (Level 1) — 46\n",
      "Visiting: https://www.gov.uk/browse/visas-immigration/student-visas (Level 1) — 47\n",
      "Visiting: https://www.gov.uk/contact/govuk (Level 1) — 48\n",
      "Visiting: https://www.gov.uk/government/how-government-works (Level 1) — 49\n",
      "Visiting: https://www.gov.uk/government/get-involved (Level 1) — 50\n",
      "50 documents scraped for uk\n",
      "\n",
      "Total documents: 150\n"
     ]
    }
   ],
   "source": [
    "MAX_DEPTH = 2\n",
    "MAX_PAGES=50\n",
    "\n",
    "all_documents = []\n",
    "\n",
    "for country, url in TRAVEL_URLS.items():\n",
    "    print(f\"Getting Data from {country.upper()} (up to level {MAX_DEPTH})...\")\n",
    "    docs = scrape_data(url, country, max_depth=MAX_DEPTH, max_pages=MAX_PAGES)\n",
    "    print(f\"{len(docs)} documents scraped for {country}\")\n",
    "    all_documents.extend(docs)\n",
    "\n",
    "print(f\"\\nTotal documents: {len(all_documents)}\")\n"
   ]
  },
  {
   "cell_type": "code",
   "execution_count": 6,
   "id": "bff64924-dc33-4966-afe4-662e25c5d91a",
   "metadata": {},
   "outputs": [
    {
     "name": "stdout",
     "output_type": "stream",
     "text": [
      "\n",
      "Sample Document:\n",
      "Source: canada\n",
      "URL: https://www.canada.ca/en/immigration-refugees-citizenship/services/visit-canada.html\n",
      "Level: 0\n",
      "\n",
      "Content preview:\n",
      " Find out what document you need to travel, visit family and friends, do business, or transit through Canada, and how to extend your stay.\n",
      "What a visitor visa is, who is eligible and how to apply\n",
      "What an eTA is, eligibility and how to apply online\n",
      "How to extend your stay in Canada\n",
      "How to get a new visa from inside Canada\n",
      "Who is eligible and how to apply for a super visa that lets you stay with family in Canada for 5\n",
      "                    years at a time\n",
      "Find out about the travel documents you need and what to bring to Canada as a business visitor\n",
      "What it means to transit through Canada and which documents you need\n",
      "Travel tips, what happens at the border, and prohibited or restricted goods\n",
      "Answer a few questions to see different ways you might be able to come to Canada\n"
     ]
    }
   ],
   "source": [
    "## Show one sample\n",
    "print(\"\\nSample Document:\")\n",
    "print(\"Source:\", all_documents[0].metadata['source'])\n",
    "print(\"URL:\", all_documents[0].metadata['url'])\n",
    "print(\"Level:\", all_documents[0].metadata['level'])\n",
    "print(\"\\nContent preview:\\n\", all_documents[0].page_content[:1000])  "
   ]
  },
  {
   "cell_type": "code",
   "execution_count": 7,
   "id": "88306d9e-bc8e-41e7-a203-16626042765b",
   "metadata": {},
   "outputs": [
    {
     "name": "stdout",
     "output_type": "stream",
     "text": [
      "Country: canada\n",
      "URL: https://www.canada.ca/en/immigration-refugees-citizenship/services/visit-canada.html\n",
      "Level: 0\n",
      "Data Content:\n",
      " Find out what document you need to travel, visit family and friends, do business, or transit through Canada, and how to extend your stay.\n",
      "What a visitor visa is, who is eligible and how to apply\n",
      "What an eTA is, eligibility and how to apply online\n",
      "How to extend your stay in Canada\n",
      "How to get a new visa from inside Canada\n",
      "Who is eligible and how to apply for a super visa that lets you stay with family in Canada for 5\n",
      "                    years at a time\n",
      "Find out about the travel documents you need \n",
      "...\n",
      "Country: canada\n",
      "URL: https://www.canada.ca/en/immigration-refugees-citizenship/services/visit-canada.html#wb-cont\n",
      "Level: 1\n",
      "Data Content:\n",
      " Find out what document you need to travel, visit family and friends, do business, or transit through Canada, and how to extend your stay.\n",
      "What a visitor visa is, who is eligible and how to apply\n",
      "What an eTA is, eligibility and how to apply online\n",
      "How to extend your stay in Canada\n",
      "How to get a new visa from inside Canada\n",
      "Who is eligible and how to apply for a super visa that lets you stay with family in Canada for 5\n",
      "                    years at a time\n",
      "Find out about the travel documents you need \n",
      "...\n",
      "Country: canada\n",
      "URL: https://www.canada.ca/en/immigration-refugees-citizenship/services/visit-canada.html#wb-info\n",
      "Level: 1\n",
      "Data Content:\n",
      " Find out what document you need to travel, visit family and friends, do business, or transit through Canada, and how to extend your stay.\n",
      "What a visitor visa is, who is eligible and how to apply\n",
      "What an eTA is, eligibility and how to apply online\n",
      "How to extend your stay in Canada\n",
      "How to get a new visa from inside Canada\n",
      "Who is eligible and how to apply for a super visa that lets you stay with family in Canada for 5\n",
      "                    years at a time\n",
      "Find out about the travel documents you need \n",
      "...\n"
     ]
    }
   ],
   "source": [
    "## Show first 3 documents\n",
    "for i, doc in enumerate(all_documents[:3]):\n",
    "    print(\"Country:\", doc.metadata['source'])\n",
    "    print(\"URL:\", doc.metadata['url'])\n",
    "    print(\"Level:\", doc.metadata['level'])\n",
    "    print(\"Data Content:\\n\", doc.page_content[:500], \"\\n...\")\n"
   ]
  },
  {
   "cell_type": "markdown",
   "id": "53c61930-8865-4991-8d16-d169cec63a73",
   "metadata": {},
   "source": [
    "## Split Content for RAG ##"
   ]
  },
  {
   "cell_type": "code",
   "execution_count": 8,
   "id": "91d270be-3a2b-4bc5-8492-ddd311c92c35",
   "metadata": {},
   "outputs": [],
   "source": [
    "splitter = RecursiveCharacterTextSplitter(chunk_size=500, chunk_overlap=50)\n",
    "chunked_docs = splitter.split_documents(all_documents)"
   ]
  },
  {
   "cell_type": "markdown",
   "id": "8e6e5742-66f1-4b7b-a3a2-44cd666ab38c",
   "metadata": {},
   "source": [
    "## Embeddings and Vectorstore ##"
   ]
  },
  {
   "cell_type": "code",
   "execution_count": 9,
   "id": "ef048591-65bf-495d-8950-42035c0f7fa1",
   "metadata": {},
   "outputs": [],
   "source": [
    "from langchain_openai import OpenAIEmbeddings\n",
    "\n",
    "embeddings = OpenAIEmbeddings(openai_api_key=api_key)\n",
    "vectorstore = FAISS.from_documents(chunked_docs, embeddings)\n"
   ]
  },
  {
   "cell_type": "markdown",
   "id": "98d3fe24-a9ea-4d90-ad35-4ddf193dc0ea",
   "metadata": {},
   "source": [
    "## Setup Model and Retriever"
   ]
  },
  {
   "cell_type": "code",
   "execution_count": 10,
   "id": "05e510aa-64dd-4821-b0e1-d7b5ad991d17",
   "metadata": {},
   "outputs": [
    {
     "name": "stderr",
     "output_type": "stream",
     "text": [
      "/var/folders/98/p89mc3nd1d34f9jndy3v2lz00000gn/T/ipykernel_90393/4252096736.py:4: LangChainDeprecationWarning: The class `ChatOpenAI` was deprecated in LangChain 0.0.10 and will be removed in 1.0. An updated version of the class exists in the langchain-openai package and should be used instead. To use it run `pip install -U langchain-openai` and import as `from langchain_openai import ChatOpenAI`.\n",
      "  llm = ChatOpenAI(model_name=\"gpt-4\", openai_api_key=api_key)\n"
     ]
    }
   ],
   "source": [
    "from langchain_community.chat_models import ChatOpenAI\n",
    "from langchain.chains import RetrievalQA\n",
    "\n",
    "llm = ChatOpenAI(model_name=\"gpt-4\", openai_api_key=api_key)\n",
    "\n",
    "qa_chain = RetrievalQA.from_chain_type(\n",
    "    llm=llm,\n",
    "    retriever=vectorstore.as_retriever()\n",
    ")"
   ]
  },
  {
   "cell_type": "markdown",
   "id": "42ad47d5-418b-4f80-bd21-74cf5710516d",
   "metadata": {},
   "source": [
    "## Ask Question ##"
   ]
  },
  {
   "cell_type": "code",
   "execution_count": 11,
   "id": "b0164f8c-36e8-486a-983f-2b2f91437e3d",
   "metadata": {},
   "outputs": [
    {
     "name": "stdout",
     "output_type": "stream",
     "text": [
      "Answer: Anyone who meets the requirements needed to travel to Canada can apply for a visitor visa. This includes individuals who want to visit Canada for business, tourism, or to visit family and friends. However, permanent residents of Canada must have a nonimmigrant visa. You may also need to give biometrics with your application. Additionally, up to 2 adults can be identified in your visa application.\n"
     ]
    }
   ],
   "source": [
    "test_question = \"Who can apply for visitor visa in canada?\"\n",
    "answer = qa_chain.invoke(test_question)\n",
    "print(\"Answer:\", answer['result'])\n"
   ]
  },
  {
   "cell_type": "code",
   "execution_count": 12,
   "id": "7d6e6f0a-e994-4989-a6f9-80801333318f",
   "metadata": {},
   "outputs": [
    {
     "name": "stdout",
     "output_type": "stream",
     "text": [
      "Answer: Citizens of Canada traveling to the United States generally do not require a nonimmigrant visa, except for certain travel purposes. However, Canadian citizens who are inadmissible to the United States under United States immigration law or have previously violated the terms of their immigration status in the United States may need a visa. Permanent residents (landed immigrants) of Canada must have a nonimmigrant visa.\n"
     ]
    }
   ],
   "source": [
    "test_question = \"What is the visa requiremnts for the Citizens of Canada traveling to the United States?\"\n",
    "answer = qa_chain.invoke(test_question)\n",
    "print(\"Answer:\", answer['result'])\n"
   ]
  },
  {
   "cell_type": "code",
   "execution_count": 13,
   "id": "9ff2338f-8418-43e7-b6a7-f3d4399e1a3a",
   "metadata": {},
   "outputs": [
    {
     "name": "stdout",
     "output_type": "stream",
     "text": [
      "Answer: As an academic, you can visit the UK for up to 6 months to do research. If you're doing a distance learning course, your course can last longer than 6 months as most of your study will happen outside of the UK. You can also visit to do certain activities as part of your course. Before visiting, you must prove certain conditions, although these conditions are not specified in the provided context. If you are an academic, but not a senior doctor or dentist, you must also prove you're visiting to do research or a formal exchange. If you're a senior doctor or dentist, you must also prove you're visiting to do research, clinical practice, a formal exchange or to teach. In some cases, you may need to get an Academic Technology Approval Scheme (ATAS) certificate before you start your course or research, especially if you're researching certain subjects at postgraduate level or above.\n"
     ]
    }
   ],
   "source": [
    "test_question = \"How to visit as an Academic in UK?\"\n",
    "answer = qa_chain.invoke(test_question)\n",
    "print(\"Answer:\", answer['result'])\n"
   ]
  },
  {
   "cell_type": "markdown",
   "id": "903d14db-7219-4270-8535-162fb8d2f625",
   "metadata": {},
   "source": [
    "## Chat UI ##"
   ]
  },
  {
   "cell_type": "code",
   "execution_count": 14,
   "id": "25bdd61c-b844-4ddb-a6dd-822356df528d",
   "metadata": {},
   "outputs": [
    {
     "name": "stdout",
     "output_type": "stream",
     "text": [
      "Running on local URL:  http://127.0.0.1:7860\n",
      "\n",
      "To create a public link, set `share=True` in `launch()`.\n"
     ]
    },
    {
     "data": {
      "text/html": [
       "<div><iframe src=\"http://127.0.0.1:7860/\" width=\"100%\" height=\"500\" allow=\"autoplay; camera; microphone; clipboard-read; clipboard-write;\" frameborder=\"0\" allowfullscreen></iframe></div>"
      ],
      "text/plain": [
       "<IPython.core.display.HTML object>"
      ]
     },
     "metadata": {},
     "output_type": "display_data"
    },
    {
     "data": {
      "text/plain": []
     },
     "execution_count": 14,
     "metadata": {},
     "output_type": "execute_result"
    }
   ],
   "source": [
    "import gradio as gr\n",
    "\n",
    "def travel_assistant(user_input):\n",
    "    try:\n",
    "        response = qa_chain.invoke(user_input)\n",
    "        return response['result']\n",
    "    except Exception as e:\n",
    "        return f\"Error: {e}\"\n",
    "\n",
    "\n",
    "gr.Interface(\n",
    "    fn=travel_assistant,\n",
    "    inputs=gr.Textbox(lines=2, placeholder=\"Ask your visa related question\"),\n",
    "    outputs=gr.Textbox(label=\"Answer\"),\n",
    "    title=\"Visa Assistant\",\n",
    "    description=\"Ask travel-related visa questions\"\n",
    ").launch(inline=True)\n"
   ]
  }
 ],
 "metadata": {
  "kernelspec": {
   "display_name": "Python 3 (ipykernel)",
   "language": "python",
   "name": "python3"
  },
  "language_info": {
   "codemirror_mode": {
    "name": "ipython",
    "version": 3
   },
   "file_extension": ".py",
   "mimetype": "text/x-python",
   "name": "python",
   "nbconvert_exporter": "python",
   "pygments_lexer": "ipython3",
   "version": "3.8.11"
  }
 },
 "nbformat": 4,
 "nbformat_minor": 5
}
